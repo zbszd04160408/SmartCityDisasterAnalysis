{
 "cells": [
  {
   "cell_type": "code",
   "execution_count": 2,
   "id": "16066b71",
   "metadata": {},
   "outputs": [
    {
     "name": "stdout",
     "output_type": "stream",
     "text": [
      "Requirement already satisfied: GetOldTweets3 in c:\\users\\vivian\\appdata\\local\\programs\\python\\python39\\lib\\site-packages (0.0.11)\n",
      "Requirement already satisfied: pyquery>=1.2.10 in c:\\users\\vivian\\appdata\\local\\programs\\python\\python39\\lib\\site-packages (from GetOldTweets3) (1.4.3)\n",
      "Requirement already satisfied: lxml>=3.5.0 in c:\\users\\vivian\\appdata\\local\\programs\\python\\python39\\lib\\site-packages (from GetOldTweets3) (4.6.4)\n",
      "Requirement already satisfied: cssselect>0.7.9 in c:\\users\\vivian\\appdata\\local\\programs\\python\\python39\\lib\\site-packages (from pyquery>=1.2.10->GetOldTweets3) (1.1.0)\n"
     ]
    },
    {
     "name": "stderr",
     "output_type": "stream",
     "text": [
      "WARNING: You are using pip version 21.2.4; however, version 21.3.1 is available.\n",
      "You should consider upgrading via the 'C:\\Users\\Vivian\\AppData\\Local\\Programs\\Python\\Python39\\python.exe -m pip install --upgrade pip' command.\n"
     ]
    },
    {
     "name": "stdout",
     "output_type": "stream",
     "text": [
      "Requirement already satisfied: snscrape in c:\\users\\vivian\\appdata\\local\\programs\\python\\python39\\lib\\site-packages (0.3.4)"
     ]
    },
    {
     "name": "stderr",
     "output_type": "stream",
     "text": [
      "WARNING: You are using pip version 21.2.4; however, version 21.3.1 is available.\n",
      "You should consider upgrading via the 'C:\\Users\\Vivian\\AppData\\Local\\Programs\\Python\\Python39\\python.exe -m pip install --upgrade pip' command.\n"
     ]
    },
    {
     "name": "stdout",
     "output_type": "stream",
     "text": [
      "\n",
      "Requirement already satisfied: requests[socks] in c:\\users\\vivian\\appdata\\local\\programs\\python\\python39\\lib\\site-packages (from snscrape) (2.26.0)\n",
      "Requirement already satisfied: lxml in c:\\users\\vivian\\appdata\\local\\programs\\python\\python39\\lib\\site-packages (from snscrape) (4.6.4)\n",
      "Requirement already satisfied: beautifulsoup4 in c:\\users\\vivian\\appdata\\local\\programs\\python\\python39\\lib\\site-packages (from snscrape) (4.10.0)\n",
      "Requirement already satisfied: soupsieve>1.2 in c:\\users\\vivian\\appdata\\local\\programs\\python\\python39\\lib\\site-packages (from beautifulsoup4->snscrape) (2.3.1)\n",
      "Requirement already satisfied: idna<4,>=2.5 in c:\\users\\vivian\\appdata\\local\\programs\\python\\python39\\lib\\site-packages (from requests[socks]->snscrape) (3.3)\n",
      "Requirement already satisfied: urllib3<1.27,>=1.21.1 in c:\\users\\vivian\\appdata\\local\\programs\\python\\python39\\lib\\site-packages (from requests[socks]->snscrape) (1.26.7)\n",
      "Requirement already satisfied: certifi>=2017.4.17 in c:\\users\\vivian\\appdata\\local\\programs\\python\\python39\\lib\\site-packages (from requests[socks]->snscrape) (2021.10.8)\n",
      "Requirement already satisfied: charset-normalizer~=2.0.0 in c:\\users\\vivian\\appdata\\local\\programs\\python\\python39\\lib\\site-packages (from requests[socks]->snscrape) (2.0.8)\n",
      "Requirement already satisfied: PySocks!=1.5.7,>=1.5.6 in c:\\users\\vivian\\appdata\\local\\programs\\python\\python39\\lib\\site-packages (from requests[socks]->snscrape) (1.7.1)\n"
     ]
    }
   ],
   "source": [
    "!pip install snscrape"
   ]
  },
  {
   "cell_type": "code",
   "execution_count": 1,
   "id": "9cfc3636",
   "metadata": {},
   "outputs": [],
   "source": [
    "import snscrape.modules.twitter as sntwitter\n",
    "import pandas as pd"
   ]
  },
  {
   "cell_type": "code",
   "execution_count": 2,
   "id": "fbc2e3cf",
   "metadata": {},
   "outputs": [
    {
     "name": "stderr",
     "output_type": "stream",
     "text": [
      "<ipython-input-2-45240289473c>:5: FutureWarning: username is deprecated, use user.username instead\n",
      "  tweets_list1.append([tweet.date, tweet.id, tweet.content, tweet.username,  tweet.user.location, tweet.user.followersCount, tweet.replyCount, tweet.retweetCount])\n"
     ]
    }
   ],
   "source": [
    "tweets_list1 = []\n",
    "for i,tweet in enumerate(sntwitter.TwitterSearchScraper('#Maria since:2020-09-16 until:2020-09-18').get_items()):\n",
    "    if i>100000:\n",
    "        break\n",
    "    tweets_list1.append([tweet.date, tweet.id, tweet.content, tweet.username,  tweet.user.location, tweet.user.followersCount, tweet.replyCount, tweet.retweetCount])\n",
    "   \n",
    "tweets_df1 = pd.DataFrame(tweets_list1, columns=['Datetime', 'Tweet Id', 'Text', 'Username', \"Location\", \"FollowersCount\", \"ReplyCount\", \"RetweetCount\"])"
   ]
  },
  {
   "cell_type": "code",
   "execution_count": 36,
   "id": "1225ac5f",
   "metadata": {},
   "outputs": [],
   "source": [
    "tweets_df1.to_csv(\"./temp.csv\")"
   ]
  },
  {
   "cell_type": "code",
   "execution_count": 4,
   "id": "b9e684c5",
   "metadata": {},
   "outputs": [
    {
     "name": "stderr",
     "output_type": "stream",
     "text": [
      "<ipython-input-4-80679e3a7e8e>:6: FutureWarning: username is deprecated, use user.username instead\n",
      "  tweets_list.append([tweet.date, tweet.id, tweet.content, tweet.username,  tweet.user.location, tweet.user.followersCount, tweet.replyCount, tweet.retweetCount])\n"
     ]
    }
   ],
   "source": [
    "tweets_list = []\n",
    "\n",
    "for i,tweet in enumerate(sntwitter.TwitterSearchScraper('#hurricaneida since:2021-08-26 until:2021-09-04').get_items()):\n",
    "    if i>100000:\n",
    "        break\n",
    "    tweets_list.append([tweet.date, tweet.id, tweet.content, tweet.username,  tweet.user.location, tweet.user.followersCount, tweet.replyCount, tweet.retweetCount])\n",
    "   \n",
    "tweets_df = pd.DataFrame(tweets_list, columns=['Datetime', 'Tweet Id', 'Text', 'Username', \"Location\", \"FollowersCount\", \"ReplyCount\", \"RetweetCount\"])"
   ]
  },
  {
   "cell_type": "code",
   "execution_count": 5,
   "id": "c30e239f",
   "metadata": {},
   "outputs": [],
   "source": [
    "tweets_df.to_csv(\"./data/twitter_content.csv\")"
   ]
  },
  {
   "cell_type": "code",
   "execution_count": null,
   "id": "6af5f64a",
   "metadata": {},
   "outputs": [],
   "source": []
  }
 ],
 "metadata": {
  "kernelspec": {
   "display_name": "Python 3",
   "language": "python",
   "name": "python3"
  },
  "language_info": {
   "codemirror_mode": {
    "name": "ipython",
    "version": 3
   },
   "file_extension": ".py",
   "mimetype": "text/x-python",
   "name": "python",
   "nbconvert_exporter": "python",
   "pygments_lexer": "ipython3",
   "version": "3.8.8"
  }
 },
 "nbformat": 4,
 "nbformat_minor": 5
}
