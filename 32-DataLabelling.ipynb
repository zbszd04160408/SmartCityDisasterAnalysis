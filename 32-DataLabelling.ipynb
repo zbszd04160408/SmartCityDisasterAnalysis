{
 "cells": [
  {
   "cell_type": "code",
   "execution_count": 1,
   "metadata": {},
   "outputs": [
    {
     "name": "stderr",
     "output_type": "stream",
     "text": [
      "[nltk_data] Downloading package stopwords to\n",
      "[nltk_data]     C:\\Users\\Vivian\\AppData\\Roaming\\nltk_data...\n",
      "[nltk_data]   Package stopwords is already up-to-date!\n",
      "[nltk_data] Downloading package punkt to\n",
      "[nltk_data]     C:\\Users\\Vivian\\AppData\\Roaming\\nltk_data...\n",
      "[nltk_data]   Package punkt is already up-to-date!\n",
      "[nltk_data] Downloading package wordnet to\n",
      "[nltk_data]     C:\\Users\\Vivian\\AppData\\Roaming\\nltk_data...\n",
      "[nltk_data]   Package wordnet is already up-to-date!\n"
     ]
    }
   ],
   "source": [
    "import pandas as pd\n",
    "import numpy as np\n",
    "import nltk \n",
    "nltk.download('stopwords')\n",
    "nltk.download('punkt')\n",
    "nltk.download('wordnet')\n",
    "import string as st\n",
    "from nltk.stem import WordNetLemmatizer"
   ]
  },
  {
   "cell_type": "code",
   "execution_count": 3,
   "metadata": {},
   "outputs": [],
   "source": [
    "df = pd.read_csv(\"./data/features_demands.csv\")"
   ]
  },
  {
   "cell_type": "markdown",
   "metadata": {},
   "source": [
    "# Text Lemmentalization"
   ]
  },
  {
   "cell_type": "code",
   "execution_count": 7,
   "metadata": {},
   "outputs": [],
   "source": [
    "stopword = nltk.corpus.stopwords.words('english')\n",
    "def pre_processing(text):\n",
    "    a = [w for w in text if w not in st.punctuation]\n",
    "    text = ''.join(a)\n",
    "    texts = nltk.word_tokenize(text)\n",
    "    a = [w for w in texts if w not in stopword]\n",
    "    a = [x.lower() for x in a]\n",
    "    a = [i for i in a if not i.isdigit()]\n",
    "    lemmatizer = WordNetLemmatizer()\n",
    "    a = [lemmatizer.lemmatize(w) for w in a]\n",
    "    return ' '.join(a)"
   ]
  },
  {
   "cell_type": "code",
   "execution_count": 8,
   "metadata": {},
   "outputs": [
    {
     "data": {
      "text/plain": [
       "0        flying entourage w jeff parish surveying downe...\n",
       "1                     air operation underway grand isle la\n",
       "2        i signed volunteer helping man cooling station...\n",
       "3        new york ag suggests emergency housing basemen...\n",
       "4                                             dammit bobby\n",
       "                               ...                        \n",
       "42535    forecast td nine become saturday explicitly sh...\n",
       "42536    it first official advisory likely opinion beco...\n",
       "42537    btw upgraded will probably within next couple ...\n",
       "42538                                          sorry sorry\n",
       "42539    tomorrow year anniversary faced another storm ...\n",
       "Name: CleanText, Length: 42540, dtype: object"
      ]
     },
     "execution_count": 8,
     "metadata": {},
     "output_type": "execute_result"
    }
   ],
   "source": [
    "df = df[df['CleanText'].notna()]\n",
    "df['CleanText'] = df['CleanText'].apply(pre_processing)"
   ]
  },
  {
   "cell_type": "markdown",
   "metadata": {},
   "source": [
    "# Label Based on Sentiment and Demand"
   ]
  },
  {
   "cell_type": "code",
   "execution_count": 11,
   "metadata": {},
   "outputs": [],
   "source": [
    "sent = pd.read_csv(\"./data/sentiment140_sentiment.csv\", index_col=0)"
   ]
  },
  {
   "cell_type": "code",
   "execution_count": 18,
   "metadata": {},
   "outputs": [],
   "source": [
    "target_df = pd.merge(df, sent, on = \"Tweet Id\")[[\"Tweet Id\", \"TimeDiff\", \"tweet_1st\", \"tweet_2nd\", \"Demand\", \"Sentiment140_Sentiment\"]]"
   ]
  },
  {
   "cell_type": "code",
   "execution_count": 19,
   "metadata": {},
   "outputs": [
    {
     "data": {
      "text/html": [
       "<div>\n",
       "<style scoped>\n",
       "    .dataframe tbody tr th:only-of-type {\n",
       "        vertical-align: middle;\n",
       "    }\n",
       "\n",
       "    .dataframe tbody tr th {\n",
       "        vertical-align: top;\n",
       "    }\n",
       "\n",
       "    .dataframe thead th {\n",
       "        text-align: right;\n",
       "    }\n",
       "</style>\n",
       "<table border=\"1\" class=\"dataframe\">\n",
       "  <thead>\n",
       "    <tr style=\"text-align: right;\">\n",
       "      <th></th>\n",
       "      <th>Tweet Id</th>\n",
       "      <th>TimeDiff</th>\n",
       "      <th>tweet_1st</th>\n",
       "      <th>tweet_2nd</th>\n",
       "      <th>Demand</th>\n",
       "      <th>Sentiment140_Sentiment</th>\n",
       "    </tr>\n",
       "  </thead>\n",
       "  <tbody>\n",
       "    <tr>\n",
       "      <th>0</th>\n",
       "      <td>1433942885716615173</td>\n",
       "      <td>215.999722</td>\n",
       "      <td>10.708929</td>\n",
       "      <td>3.772147</td>\n",
       "      <td>Other</td>\n",
       "      <td>0</td>\n",
       "    </tr>\n",
       "    <tr>\n",
       "      <th>1</th>\n",
       "      <td>1433942716996485123</td>\n",
       "      <td>215.988611</td>\n",
       "      <td>11.942713</td>\n",
       "      <td>3.885051</td>\n",
       "      <td>Other</td>\n",
       "      <td>4</td>\n",
       "    </tr>\n",
       "    <tr>\n",
       "      <th>2</th>\n",
       "      <td>1433942626944884738</td>\n",
       "      <td>215.982778</td>\n",
       "      <td>6.072673</td>\n",
       "      <td>0.735367</td>\n",
       "      <td>Other</td>\n",
       "      <td>4</td>\n",
       "    </tr>\n",
       "    <tr>\n",
       "      <th>3</th>\n",
       "      <td>1433942451937501191</td>\n",
       "      <td>215.971111</td>\n",
       "      <td>8.767741</td>\n",
       "      <td>3.170668</td>\n",
       "      <td>Food</td>\n",
       "      <td>0</td>\n",
       "    </tr>\n",
       "    <tr>\n",
       "      <th>4</th>\n",
       "      <td>1433942167152697346</td>\n",
       "      <td>215.952222</td>\n",
       "      <td>2.240252</td>\n",
       "      <td>3.462578</td>\n",
       "      <td>Other</td>\n",
       "      <td>0</td>\n",
       "    </tr>\n",
       "    <tr>\n",
       "      <th>...</th>\n",
       "      <td>...</td>\n",
       "      <td>...</td>\n",
       "      <td>...</td>\n",
       "      <td>...</td>\n",
       "      <td>...</td>\n",
       "      <td>...</td>\n",
       "    </tr>\n",
       "    <tr>\n",
       "      <th>42535</th>\n",
       "      <td>1430909520868433920</td>\n",
       "      <td>15.108056</td>\n",
       "      <td>9.969593</td>\n",
       "      <td>4.999687</td>\n",
       "      <td>Other</td>\n",
       "      <td>0</td>\n",
       "    </tr>\n",
       "    <tr>\n",
       "      <th>42536</th>\n",
       "      <td>1430906539494154244</td>\n",
       "      <td>14.910556</td>\n",
       "      <td>8.256058</td>\n",
       "      <td>4.304694</td>\n",
       "      <td>Shelter</td>\n",
       "      <td>4</td>\n",
       "    </tr>\n",
       "    <tr>\n",
       "      <th>42537</th>\n",
       "      <td>1430904806038642696</td>\n",
       "      <td>14.795833</td>\n",
       "      <td>9.488568</td>\n",
       "      <td>2.686853</td>\n",
       "      <td>Other</td>\n",
       "      <td>4</td>\n",
       "    </tr>\n",
       "    <tr>\n",
       "      <th>42538</th>\n",
       "      <td>1430884811292487682</td>\n",
       "      <td>13.471667</td>\n",
       "      <td>2.373932</td>\n",
       "      <td>3.909397</td>\n",
       "      <td>Other</td>\n",
       "      <td>0</td>\n",
       "    </tr>\n",
       "    <tr>\n",
       "      <th>42539</th>\n",
       "      <td>1430877976632061961</td>\n",
       "      <td>13.018889</td>\n",
       "      <td>8.096447</td>\n",
       "      <td>5.211324</td>\n",
       "      <td>Other</td>\n",
       "      <td>4</td>\n",
       "    </tr>\n",
       "  </tbody>\n",
       "</table>\n",
       "<p>42540 rows × 6 columns</p>\n",
       "</div>"
      ],
      "text/plain": [
       "                  Tweet Id    TimeDiff  tweet_1st  tweet_2nd   Demand  \\\n",
       "0      1433942885716615173  215.999722  10.708929   3.772147    Other   \n",
       "1      1433942716996485123  215.988611  11.942713   3.885051    Other   \n",
       "2      1433942626944884738  215.982778   6.072673   0.735367    Other   \n",
       "3      1433942451937501191  215.971111   8.767741   3.170668     Food   \n",
       "4      1433942167152697346  215.952222   2.240252   3.462578    Other   \n",
       "...                    ...         ...        ...        ...      ...   \n",
       "42535  1430909520868433920   15.108056   9.969593   4.999687    Other   \n",
       "42536  1430906539494154244   14.910556   8.256058   4.304694  Shelter   \n",
       "42537  1430904806038642696   14.795833   9.488568   2.686853    Other   \n",
       "42538  1430884811292487682   13.471667   2.373932   3.909397    Other   \n",
       "42539  1430877976632061961   13.018889   8.096447   5.211324    Other   \n",
       "\n",
       "       Sentiment140_Sentiment  \n",
       "0                           0  \n",
       "1                           4  \n",
       "2                           4  \n",
       "3                           0  \n",
       "4                           0  \n",
       "...                       ...  \n",
       "42535                       0  \n",
       "42536                       4  \n",
       "42537                       4  \n",
       "42538                       0  \n",
       "42539                       4  \n",
       "\n",
       "[42540 rows x 6 columns]"
      ]
     },
     "execution_count": 19,
     "metadata": {},
     "output_type": "execute_result"
    }
   ],
   "source": [
    "target_df"
   ]
  },
  {
   "cell_type": "code",
   "execution_count": 25,
   "metadata": {},
   "outputs": [],
   "source": [
    "def label (row):\n",
    "   if row['Demand']==\"Water\" and row['Sentiment140_Sentiment']!=0: # 4 positive\n",
    "      return 0\n",
    "   elif row['Demand']==\"Water\" and row['Sentiment140_Sentiment']==0:\n",
    "      return 1\n",
    "   elif row['Demand']==\"Food\" and row['Sentiment140_Sentiment']!=0: # 4 positive, 0 nagative\n",
    "      return 0\n",
    "   elif row['Demand']==\"Food\" and row['Sentiment140_Sentiment']==0:\n",
    "      return 1\n",
    "   elif row['Demand']==\"Shelter\" and row['Sentiment140_Sentiment']!=0: # 4 positive, 0 nagative\n",
    "      return 0\n",
    "   elif row['Demand']==\"Shelter\" and row['Sentiment140_Sentiment']==0:\n",
    "      return 1\n",
    "   elif row['Demand']==\"Electricity\" and row['Sentiment140_Sentiment']!=0: # 4 positive, 0 nagative\n",
    "      return 0\n",
    "   elif row['Demand']==\"Electricity\" and row['Sentiment140_Sentiment']==0:\n",
    "      return 1\n",
    "   elif row['Demand']==\"Medicine\" and row['Sentiment140_Sentiment']!=0: # 4 positive, 0 nagative\n",
    "      return 0\n",
    "   elif row['Demand']==\"Medicine\" and row['Sentiment140_Sentiment']==0:\n",
    "      return 1"
   ]
  },
  {
   "cell_type": "code",
   "execution_count": 34,
   "metadata": {},
   "outputs": [],
   "source": [
    "Water = target_df[target_df[\"Demand\"] == 'Water']\n",
    "Food = target_df[target_df[\"Demand\"] == 'Food']\n",
    "Electricity = target_df[target_df[\"Demand\"] == 'Electricity']\n",
    "Shelter = target_df[target_df[\"Demand\"] == 'Shelter']\n",
    "Medicine = target_df[target_df[\"Demand\"] == 'Medicine']\n",
    "needs = target_df[target_df[\"Demand\"] != 'Other']"
   ]
  },
  {
   "cell_type": "code",
   "execution_count": 27,
   "metadata": {},
   "outputs": [
    {
     "name": "stderr",
     "output_type": "stream",
     "text": [
      "<ipython-input-27-427aca4fed6e>:1: SettingWithCopyWarning: \n",
      "A value is trying to be set on a copy of a slice from a DataFrame.\n",
      "Try using .loc[row_indexer,col_indexer] = value instead\n",
      "\n",
      "See the caveats in the documentation: https://pandas.pydata.org/pandas-docs/stable/user_guide/indexing.html#returning-a-view-versus-a-copy\n",
      "  Water['Label'] = Water.apply (lambda row: label(row), axis=1)\n"
     ]
    }
   ],
   "source": [
    "Water['Label'] = Water.apply (lambda row: label(row), axis=1)\n",
    "Water = Water[[\"TimeDiff\", \"tweet_1st\", \"tweet_2nd\", \"Label\"]]\n",
    "Water.to_csv(\"./data/Water.csv\")"
   ]
  },
  {
   "cell_type": "code",
   "execution_count": 28,
   "metadata": {},
   "outputs": [
    {
     "name": "stderr",
     "output_type": "stream",
     "text": [
      "<ipython-input-28-357250f74ec9>:1: SettingWithCopyWarning: \n",
      "A value is trying to be set on a copy of a slice from a DataFrame.\n",
      "Try using .loc[row_indexer,col_indexer] = value instead\n",
      "\n",
      "See the caveats in the documentation: https://pandas.pydata.org/pandas-docs/stable/user_guide/indexing.html#returning-a-view-versus-a-copy\n",
      "  Food['Label'] = Food.apply (lambda row: label(row), axis=1)\n"
     ]
    }
   ],
   "source": [
    "Food['Label'] = Food.apply (lambda row: label(row), axis=1)\n",
    "Food = Food[[\"TimeDiff\", \"tweet_1st\", \"tweet_2nd\", \"Label\"]]\n",
    "Food.to_csv(\"./data/Food.csv\")"
   ]
  },
  {
   "cell_type": "code",
   "execution_count": 29,
   "metadata": {},
   "outputs": [
    {
     "name": "stderr",
     "output_type": "stream",
     "text": [
      "<ipython-input-29-b382d6997203>:1: SettingWithCopyWarning: \n",
      "A value is trying to be set on a copy of a slice from a DataFrame.\n",
      "Try using .loc[row_indexer,col_indexer] = value instead\n",
      "\n",
      "See the caveats in the documentation: https://pandas.pydata.org/pandas-docs/stable/user_guide/indexing.html#returning-a-view-versus-a-copy\n",
      "  Shelter['Label'] = Shelter.apply (lambda row: label(row), axis=1)\n"
     ]
    }
   ],
   "source": [
    "Shelter['Label'] = Shelter.apply (lambda row: label(row), axis=1)\n",
    "Shelter = Shelter[[\"TimeDiff\", \"tweet_1st\", \"tweet_2nd\", \"Label\"]]\n",
    "Shelter.to_csv(\"./data/Shelter.csv\")"
   ]
  },
  {
   "cell_type": "code",
   "execution_count": 30,
   "metadata": {},
   "outputs": [
    {
     "name": "stderr",
     "output_type": "stream",
     "text": [
      "<ipython-input-30-0f1001ca3cfc>:1: SettingWithCopyWarning: \n",
      "A value is trying to be set on a copy of a slice from a DataFrame.\n",
      "Try using .loc[row_indexer,col_indexer] = value instead\n",
      "\n",
      "See the caveats in the documentation: https://pandas.pydata.org/pandas-docs/stable/user_guide/indexing.html#returning-a-view-versus-a-copy\n",
      "  Electricity['Label'] = Electricity.apply (lambda row: label(row), axis=1)\n"
     ]
    }
   ],
   "source": [
    "Electricity['Label'] = Electricity.apply (lambda row: label(row), axis=1)\n",
    "Electricity = Electricity[[\"TimeDiff\", \"tweet_1st\", \"tweet_2nd\", \"Label\"]]\n",
    "Electricity.to_csv(\"./data/Electricity.csv\")"
   ]
  },
  {
   "cell_type": "code",
   "execution_count": 31,
   "metadata": {},
   "outputs": [
    {
     "name": "stderr",
     "output_type": "stream",
     "text": [
      "<ipython-input-31-b33975809b35>:1: SettingWithCopyWarning: \n",
      "A value is trying to be set on a copy of a slice from a DataFrame.\n",
      "Try using .loc[row_indexer,col_indexer] = value instead\n",
      "\n",
      "See the caveats in the documentation: https://pandas.pydata.org/pandas-docs/stable/user_guide/indexing.html#returning-a-view-versus-a-copy\n",
      "  Medicine['Label'] = Medicine.apply (lambda row: label(row), axis=1)\n"
     ]
    }
   ],
   "source": [
    "Medicine['Label'] = Medicine.apply (lambda row: label(row), axis=1)\n",
    "Medicine = Medicine[[\"TimeDiff\", \"tweet_1st\", \"tweet_2nd\", \"Label\"]]\n",
    "Medicine.to_csv(\"./data/Medicine.csv\")"
   ]
  },
  {
   "cell_type": "code",
   "execution_count": 33,
   "metadata": {},
   "outputs": [],
   "source": [
    "Other = target_df[target_df[\"Demand\"] == 'Other'][[\"TimeDiff\", \"tweet_1st\", \"tweet_2nd\"]]\n",
    "Other.to_csv(\"./data/Other.csv\")"
   ]
  },
  {
   "cell_type": "code",
   "execution_count": 39,
   "metadata": {},
   "outputs": [
    {
     "name": "stderr",
     "output_type": "stream",
     "text": [
      "<ipython-input-39-a1c8ced9effa>:17: SettingWithCopyWarning: \n",
      "A value is trying to be set on a copy of a slice from a DataFrame.\n",
      "Try using .loc[row_indexer,col_indexer] = value instead\n",
      "\n",
      "See the caveats in the documentation: https://pandas.pydata.org/pandas-docs/stable/user_guide/indexing.html#returning-a-view-versus-a-copy\n",
      "  needs['Label'] = needs.apply (lambda row: label_need(row), axis=1)\n"
     ]
    }
   ],
   "source": [
    "def label_need (row):\n",
    "    if row['Sentiment140_Sentiment']==0:\n",
    "        if row['Demand'] == \"Water\":\n",
    "            return \"Water\"\n",
    "        elif row['Demand'] == \"Food\":\n",
    "            return \"Food\"\n",
    "        elif row['Demand'] == \"Shelter\":\n",
    "            return \"Shelter\"\n",
    "        elif row['Demand'] == \"Medicine\":\n",
    "            return \"Medicine\"\n",
    "        elif row['Demand'] == \"Electricity\":\n",
    "            return \"Electricity\"\n",
    "    else:\n",
    "        return \"No Need\"\n",
    "\n",
    "needs = target_df[target_df[\"Demand\"] != 'Other']\n",
    "needs['Label'] = needs.apply (lambda row: label_need(row), axis=1)\n",
    "needs = needs[[\"TimeDiff\", \"tweet_1st\", \"tweet_2nd\", \"Label\"]]\n",
    "needs.to_csv(\"./data/needs.csv\")"
   ]
  }
 ],
 "metadata": {
  "interpreter": {
   "hash": "34c1085476779c4318d7a779ef6e9f651b429bd8bbf389bd944fd591df335044"
  },
  "kernelspec": {
   "display_name": "Python 3.8.8 64-bit ('base': conda)",
   "language": "python",
   "name": "python3"
  },
  "language_info": {
   "codemirror_mode": {
    "name": "ipython",
    "version": 3
   },
   "file_extension": ".py",
   "mimetype": "text/x-python",
   "name": "python",
   "nbconvert_exporter": "python",
   "pygments_lexer": "ipython3",
   "version": "3.8.8"
  },
  "orig_nbformat": 4
 },
 "nbformat": 4,
 "nbformat_minor": 2
}
