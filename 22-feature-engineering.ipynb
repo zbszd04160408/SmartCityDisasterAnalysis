{
 "cells": [
  {
   "cell_type": "code",
   "execution_count": 24,
   "metadata": {},
   "outputs": [],
   "source": [
    "import numpy as np\n",
    "import pandas as pd\n",
    "import datetime\n",
    "import pytz\n",
    "from sentence_transformers import SentenceTransformer\n",
    "import umap.umap_ as umap"
   ]
  },
  {
   "cell_type": "markdown",
   "metadata": {},
   "source": [
    "# Date difference"
   ]
  },
  {
   "cell_type": "code",
   "execution_count": 31,
   "metadata": {},
   "outputs": [],
   "source": [
    "df = pd.read_csv(\"./data/demands.csv\", index_col=0)\n",
    "df['Datetime'] = pd.to_datetime(df['Datetime'])\n",
    "\n",
    "begintime = datetime.datetime(2021, 8, 26, 0, 0, 0, 0, pytz.UTC)\n",
    "df['TimeDiff'] = (df['Datetime'] - begintime).dt.total_seconds() / 3600"
   ]
  },
  {
   "cell_type": "markdown",
   "metadata": {},
   "source": [
    "# Text Extraction"
   ]
  },
  {
   "cell_type": "code",
   "execution_count": 32,
   "metadata": {},
   "outputs": [],
   "source": [
    "model = SentenceTransformer('sentence-transformers/distiluse-base-multilingual-cased-v1')"
   ]
  },
  {
   "cell_type": "code",
   "execution_count": 33,
   "metadata": {},
   "outputs": [
    {
     "name": "stdout",
     "output_type": "stream",
     "text": [
      "Shape: (42540, 512)\n",
      "[[ 0.02412739 -0.01698895 -0.00602698 ...  0.01854853 -0.01162031\n",
      "  -0.02535468]\n",
      " [-0.05143539 -0.04617663 -0.11641746 ... -0.03135265 -0.09649161\n",
      "   0.03946025]\n",
      " [-0.05404997 -0.03157523  0.00654033 ... -0.04221245  0.02676716\n",
      "  -0.01336524]\n",
      " ...\n",
      " [-0.03153742 -0.03312867  0.00871271 ... -0.00961339 -0.03262124\n",
      "  -0.01835004]\n",
      " [ 0.00382126 -0.06268191 -0.04785853 ... -0.03465277  0.00834448\n",
      "  -0.01320896]\n",
      " [-0.09317471 -0.11392059 -0.01029585 ... -0.00277694 -0.00833293\n",
      "   0.03663835]]\n"
     ]
    }
   ],
   "source": [
    "tweets = df['CleanText'].tolist()\n",
    "tweet_embeddings = model.encode(tweets)\n",
    "print(\"Shape:\", tweet_embeddings.shape)\n",
    "print(tweet_embeddings)"
   ]
  },
  {
   "cell_type": "code",
   "execution_count": 34,
   "metadata": {},
   "outputs": [
    {
     "name": "stdout",
     "output_type": "stream",
     "text": [
      "(42540, 2)\n"
     ]
    }
   ],
   "source": [
    "reducer = umap.UMAP()\n",
    "tweet2D = reducer.fit_transform(tweet_embeddings)\n",
    "\n",
    "print(tweet2D.shape)\n"
   ]
  },
  {
   "cell_type": "code",
   "execution_count": 35,
   "metadata": {},
   "outputs": [],
   "source": [
    "df['tweet_1st']=tweet2D[:,0]\n",
    "df['tweet_2nd']=tweet2D[:,1]"
   ]
  },
  {
   "cell_type": "code",
   "execution_count": 41,
   "metadata": {},
   "outputs": [],
   "source": [
    "df.to_csv(\"./data/features_demands.csv\")"
   ]
  }
 ],
 "metadata": {
  "interpreter": {
   "hash": "34c1085476779c4318d7a779ef6e9f651b429bd8bbf389bd944fd591df335044"
  },
  "kernelspec": {
   "display_name": "Python 3.8.8 64-bit ('base': conda)",
   "language": "python",
   "name": "python3"
  },
  "language_info": {
   "codemirror_mode": {
    "name": "ipython",
    "version": 3
   },
   "file_extension": ".py",
   "mimetype": "text/x-python",
   "name": "python",
   "nbconvert_exporter": "python",
   "pygments_lexer": "ipython3",
   "version": "3.8.8"
  },
  "orig_nbformat": 4
 },
 "nbformat": 4,
 "nbformat_minor": 2
}
